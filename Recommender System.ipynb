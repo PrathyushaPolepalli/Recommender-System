{
 "cells": [
  {
   "cell_type": "code",
   "execution_count": 1,
   "metadata": {},
   "outputs": [],
   "source": [
    "#Dependencies\n",
    "import numpy as np\n",
    "from lightfm.datasets import fetch_movielens\n",
    "from lightfm import LightFM"
   ]
  },
  {
   "cell_type": "code",
   "execution_count": 4,
   "metadata": {},
   "outputs": [],
   "source": [
    "#Dataset\n",
    "data = fetch_movielens(min_rating=4.0)"
   ]
  },
  {
   "cell_type": "code",
   "execution_count": 6,
   "metadata": {},
   "outputs": [
    {
     "name": "stdout",
     "output_type": "stream",
     "text": [
      "<943x1682 sparse matrix of type '<class 'numpy.int32'>'\n",
      "\twith 49906 stored elements in COOrdinate format>\n",
      "<943x1682 sparse matrix of type '<class 'numpy.int32'>'\n",
      "\twith 5469 stored elements in COOrdinate format>\n"
     ]
    }
   ],
   "source": [
    "#repr() is used to get string representation of the object\n",
    "print(repr(data['train']))\n",
    "print(repr(data['test']))"
   ]
  },
  {
   "cell_type": "code",
   "execution_count": 32,
   "metadata": {},
   "outputs": [],
   "source": [
    "#Model is content based + collaborative\n",
    "model1 = LightFM(loss='bpr')  #Bayesian Personalised Ranking pairwise loss\n",
    "model2 = LightFM(loss='warp') #Weighted Approximate-Rank Pairwise loss"
   ]
  },
  {
   "cell_type": "code",
   "execution_count": 33,
   "metadata": {},
   "outputs": [
    {
     "data": {
      "text/plain": [
       "<lightfm.lightfm.LightFM at 0x1ba9e64acf8>"
      ]
     },
     "execution_count": 33,
     "metadata": {},
     "output_type": "execute_result"
    }
   ],
   "source": [
    "model1.fit(data['train'], epochs=30, num_threads=2)\n",
    "model2.fit(data['train'], epochs=30, num_threads=2)"
   ]
  },
  {
   "cell_type": "code",
   "execution_count": 34,
   "metadata": {},
   "outputs": [
    {
     "name": "stdout",
     "output_type": "stream",
     "text": [
      "array(['Toy Story (1995)', 'GoldenEye (1995)', 'Four Rooms (1995)', ...,\n",
      "       'Sliding Doors (1998)', 'You So Crazy (1994)',\n",
      "       'Scream of Stone (Schrei aus Stein) (1991)'], dtype=object)\n"
     ]
    }
   ],
   "source": [
    "print(repr(data['item_labels']))"
   ]
  },
  {
   "cell_type": "code",
   "execution_count": 35,
   "metadata": {},
   "outputs": [],
   "source": [
    "def sample_recommendations(model, data, user_ids):\n",
    "    n_users, n_items = data['train'].shape\n",
    "    for user_id in user_ids:\n",
    "        #Rating 5 is positive ratings that are 4 or less are negative\n",
    "        known_positive = data['item_labels'][data['train'].tocsr()[user_id].indices]\n",
    "        scores=model.predict(user_id, np.arange(n_items))\n",
    "        top_items=data['item_labels'][np.argsort(-scores)]\n",
    "        print(\"User %s\" % user_id)\n",
    "        print(\"  Known positive: \")\n",
    "        for x in known_positive[:3]:\n",
    "            print(\"   %s\" % x)\n",
    "        print(\" Recommendations:\")\n",
    "        for x in top_items[:3]:\n",
    "            print(\"   %s\" % x)    "
   ]
  },
  {
   "cell_type": "code",
   "execution_count": 36,
   "metadata": {},
   "outputs": [
    {
     "name": "stdout",
     "output_type": "stream",
     "text": [
      "User 3\n",
      "  Known positive: \n",
      "   Seven (Se7en) (1995)\n",
      "   Contact (1997)\n",
      "   Starship Troopers (1997)\n",
      " Recommendations:\n",
      "   Air Force One (1997)\n",
      "   L.A. Confidential (1997)\n",
      "   Contact (1997)\n",
      "User 255\n",
      "  Known positive: \n",
      "   Toy Story (1995)\n",
      "   GoldenEye (1995)\n",
      "   Get Shorty (1995)\n",
      " Recommendations:\n",
      "   Independence Day (ID4) (1996)\n",
      "   Twister (1996)\n",
      "   Rock, The (1996)\n",
      "User 420\n",
      "  Known positive: \n",
      "   Usual Suspects, The (1995)\n",
      "   Star Wars (1977)\n",
      "   Pulp Fiction (1994)\n",
      " Recommendations:\n",
      "   Alien (1979)\n",
      "   GoodFellas (1990)\n",
      "   Terminator, The (1984)\n"
     ]
    }
   ],
   "source": [
    "sample_recommendations(model1, data, [3, 255, 420])"
   ]
  },
  {
   "cell_type": "code",
   "execution_count": 37,
   "metadata": {},
   "outputs": [
    {
     "name": "stdout",
     "output_type": "stream",
     "text": [
      "User 3\n",
      "  Known positive: \n",
      "   Seven (Se7en) (1995)\n",
      "   Contact (1997)\n",
      "   Starship Troopers (1997)\n",
      " Recommendations:\n",
      "   Contact (1997)\n",
      "   Kiss the Girls (1997)\n",
      "   Scream (1996)\n",
      "User 255\n",
      "  Known positive: \n",
      "   Toy Story (1995)\n",
      "   GoldenEye (1995)\n",
      "   Get Shorty (1995)\n",
      " Recommendations:\n",
      "   Twister (1996)\n",
      "   Independence Day (ID4) (1996)\n",
      "   Jerry Maguire (1996)\n",
      "User 420\n",
      "  Known positive: \n",
      "   Usual Suspects, The (1995)\n",
      "   Star Wars (1977)\n",
      "   Pulp Fiction (1994)\n",
      " Recommendations:\n",
      "   Star Wars (1977)\n",
      "   Godfather, The (1972)\n",
      "   Raiders of the Lost Ark (1981)\n"
     ]
    }
   ],
   "source": [
    "sample_recommendations(model2, data, [3, 255, 420])"
   ]
  },
  {
   "cell_type": "code",
   "execution_count": null,
   "metadata": {},
   "outputs": [],
   "source": []
  }
 ],
 "metadata": {
  "kernelspec": {
   "display_name": "Python 3",
   "language": "python",
   "name": "python3"
  },
  "language_info": {
   "codemirror_mode": {
    "name": "ipython",
    "version": 3
   },
   "file_extension": ".py",
   "mimetype": "text/x-python",
   "name": "python",
   "nbconvert_exporter": "python",
   "pygments_lexer": "ipython3",
   "version": "3.5.6"
  }
 },
 "nbformat": 4,
 "nbformat_minor": 2
}
